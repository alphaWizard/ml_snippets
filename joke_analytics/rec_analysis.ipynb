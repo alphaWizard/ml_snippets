{
 "cells": [
  {
   "cell_type": "code",
   "execution_count": 1,
   "metadata": {
    "collapsed": true
   },
   "outputs": [],
   "source": [
    "import pandas as pd\n",
    "import numpy as np\n",
    "import csv\n",
    "from math import sqrt"
   ]
  },
  {
   "cell_type": "code",
   "execution_count": 2,
   "metadata": {
    "collapsed": true
   },
   "outputs": [],
   "source": [
    "#loading data into dictionary : train_data[u_id][j_id]=rating\n",
    "#rating is from -10 to 10.\n",
    "#Loading rating in range [0,20] by adding 10 to eliminate negative sqrt \n",
    "def load_data():\n",
    "    global n_users\n",
    "    n_users = 0\n",
    "    train_data = {}\n",
    "    f = csv.DictReader(open(\"train/train.csv\"))\n",
    "    ct = 0\n",
    "    for row in f:\n",
    "        ct += 1\n",
    "        u_id = int(row['user_id'])\n",
    "        n_users = max(n_users,u_id)\n",
    "        j_id = int(row['joke_id'])\n",
    "        rating = float(row['Rating']) + 10.0\n",
    "        if u_id in train_data:\n",
    "            current_ratings = train_data[u_id]\n",
    "        else:\n",
    "            current_ratings = {}\n",
    "        current_ratings[j_id] = rating\n",
    "        train_data[u_id] = current_ratings\n",
    "    print(\"no. of ratings: \"+str(ct))    \n",
    "    return train_data"
   ]
  },
  {
   "cell_type": "code",
   "execution_count": 3,
   "metadata": {},
   "outputs": [
    {
     "name": "stdout",
     "output_type": "stream",
     "text": [
      "no. of ratings: 1092059\n"
     ]
    }
   ],
   "source": [
    "train_dict = load_data()"
   ]
  },
  {
   "cell_type": "code",
   "execution_count": 4,
   "metadata": {},
   "outputs": [
    {
     "name": "stdout",
     "output_type": "stream",
     "text": [
      "40863\n"
     ]
    },
    {
     "data": {
      "text/plain": [
       "{1: 10.219,\n",
       " 2: 0.7189999999999994,\n",
       " 4: 3.2189999999999985,\n",
       " 5: 10.875,\n",
       " 6: 0.3439999999999994,\n",
       " 7: 0.9689999999999994,\n",
       " 8: 2.5310000000000015,\n",
       " 9: 1.2810000000000006,\n",
       " 12: 1.2189999999999994,\n",
       " 17: 18.781,\n",
       " 19: 18.781,\n",
       " 21: 18.781,\n",
       " 24: 9.75,\n",
       " 25: 18.781,\n",
       " 26: 18.781,\n",
       " 32: 10.062,\n",
       " 39: 10.062,\n",
       " 42: 10.062,\n",
       " 43: 18.781,\n",
       " 44: 18.688,\n",
       " 51: 10.031,\n",
       " 52: 10.219,\n",
       " 56: 18.688,\n",
       " 59: 18.688,\n",
       " 62: 18.781,\n",
       " 66: 19.311999999999998,\n",
       " 70: 10.062,\n",
       " 79: 19.811999999999998,\n",
       " 81: 18.781,\n",
       " 82: 13.625,\n",
       " 83: 19.311999999999998,\n",
       " 92: 10.75,\n",
       " 93: 5.0,\n",
       " 95: 12.0,\n",
       " 97: 12.031,\n",
       " 98: 15.687999999999999,\n",
       " 99: 19.656,\n",
       " 108: 10.0,\n",
       " 109: 18.781,\n",
       " 110: 18.781,\n",
       " 117: 18.688,\n",
       " 118: 10.0}"
      ]
     },
     "execution_count": 4,
     "metadata": {},
     "output_type": "execute_result"
    }
   ],
   "source": [
    "print(n_users)\n",
    "train_dict[1]"
   ]
  },
  {
   "cell_type": "code",
   "execution_count": 5,
   "metadata": {
    "collapsed": true
   },
   "outputs": [],
   "source": [
    "#indexing is 1-based in dataset\n",
    "n_items = 139\n",
    "\n",
    "def pcs(rating1, rating2):  #pass pcs(train_dict[uid_1],train_dict[uid_2])\n",
    "        sum_xy = 0\n",
    "        sum_x = 0\n",
    "        sum_y = 0\n",
    "        sum_x2 = 0\n",
    "        sum_y2 = 0\n",
    "        n = 0\n",
    "        for key in rating1:\n",
    "            if key in rating2:\n",
    "                n += 1\n",
    "                x = rating1[key]\n",
    "                y = rating2[key]\n",
    "                sum_xy += x * y\n",
    "                sum_x += x\n",
    "                sum_y += y\n",
    "                sum_x2 += pow(x, 2)\n",
    "                sum_y2 += pow(y, 2)\n",
    "        if n == 0:\n",
    "            return 0\n",
    "        # denominator\n",
    "#         print(sqrt(sum_x2 - pow(sum_x, 2) / n))\n",
    "#         print(sqrt(sum_y2 - pow(sum_y, 2) / n))\n",
    "        denominator = (sqrt(abs(sum_x2 - pow(sum_x, 2) / n))* sqrt(abs(sum_y2 - pow(sum_y, 2) / n)))\n",
    "        if denominator == 0:\n",
    "            return 0\n",
    "        else:\n",
    "            return (sum_xy - (sum_x * sum_y) / n) / denominator\n",
    "        "
   ]
  },
  {
   "cell_type": "code",
   "execution_count": 6,
   "metadata": {
    "collapsed": true
   },
   "outputs": [],
   "source": [
    "neigh_dict = {}\n",
    "def neighbors(u_id):\n",
    "        \"\"\"creates a sorted list of users based on their distance to\n",
    "        user-id u_id\"\"\"\n",
    "        if u_id in neigh_dict:\n",
    "            return neigh_dict[u_id]\n",
    "        else:\n",
    "            distances = []   #list of (u_id,distance)\n",
    "            for instance in train_dict:\n",
    "                if instance != u_id:\n",
    "                    distance = pcs(train_dict[u_id],train_dict[instance])\n",
    "                    distances.append((instance, distance))\n",
    "            # sort based on distance -- closest first\n",
    "            distances.sort(key=lambda artistTuple: artistTuple[1],reverse=True)\n",
    "            neigh_dict[u_id] = distances\n",
    "            return neigh_dict[u_id]"
   ]
  },
  {
   "cell_type": "code",
   "execution_count": 11,
   "metadata": {
    "collapsed": true
   },
   "outputs": [],
   "source": [
    "import sys\n",
    "import time\n",
    "def predict(u_id,j_id):\n",
    "    global ct\n",
    "    ct = 0\n",
    "    neigh_list = neighbors(u_id)\n",
    "    k = 5 # 100 nearest neighbors\n",
    "    ratings_sum = 0.\n",
    "    ratings_ct = 0.\n",
    "    k_neigh_list = neigh_list[:k]\n",
    "    for (uid,dist) in k_neigh_list:\n",
    "        if j_id in train_dict[uid]:\n",
    "            ratings_sum += train_dict[uid][j_id]\n",
    "            ratings_ct += 1.0\n",
    "    sys.stdout.write(str(ct))\n",
    "    ct += 1\n",
    "    sys.stdout.flush()\n",
    "    time.sleep(0.5)        \n",
    "    if ratings_ct == 0.0:\n",
    "        return 0.0    #or retun average of user u_id\n",
    "    else:\n",
    "        return ratings_sum/ratings_ct - 10.0      \n",
    "    \n",
    "    "
   ]
  },
  {
   "cell_type": "code",
   "execution_count": 12,
   "metadata": {},
   "outputs": [
    {
     "name": "stdout",
     "output_type": "stream",
     "text": [
      "0"
     ]
    },
    {
     "data": {
      "text/plain": [
       "1.179499999999999"
      ]
     },
     "execution_count": 12,
     "metadata": {},
     "output_type": "execute_result"
    }
   ],
   "source": [
    "# print(neighbors(1)[:10])\n",
    "predict(1,3)"
   ]
  },
  {
   "cell_type": "code",
   "execution_count": 13,
   "metadata": {},
   "outputs": [
    {
     "data": {
      "text/html": [
       "<div>\n",
       "<style scoped>\n",
       "    .dataframe tbody tr th:only-of-type {\n",
       "        vertical-align: middle;\n",
       "    }\n",
       "\n",
       "    .dataframe tbody tr th {\n",
       "        vertical-align: top;\n",
       "    }\n",
       "\n",
       "    .dataframe thead th {\n",
       "        text-align: right;\n",
       "    }\n",
       "</style>\n",
       "<table border=\"1\" class=\"dataframe\">\n",
       "  <thead>\n",
       "    <tr style=\"text-align: right;\">\n",
       "      <th></th>\n",
       "      <th>id</th>\n",
       "      <th>user_id</th>\n",
       "      <th>joke_id</th>\n",
       "    </tr>\n",
       "  </thead>\n",
       "  <tbody>\n",
       "    <tr>\n",
       "      <th>0</th>\n",
       "      <td>6194_11</td>\n",
       "      <td>6194</td>\n",
       "      <td>11</td>\n",
       "    </tr>\n",
       "    <tr>\n",
       "      <th>1</th>\n",
       "      <td>19356_3</td>\n",
       "      <td>19356</td>\n",
       "      <td>3</td>\n",
       "    </tr>\n",
       "    <tr>\n",
       "      <th>2</th>\n",
       "      <td>23426_79</td>\n",
       "      <td>23426</td>\n",
       "      <td>79</td>\n",
       "    </tr>\n",
       "    <tr>\n",
       "      <th>3</th>\n",
       "      <td>40030_3</td>\n",
       "      <td>40030</td>\n",
       "      <td>3</td>\n",
       "    </tr>\n",
       "    <tr>\n",
       "      <th>4</th>\n",
       "      <td>19806_115</td>\n",
       "      <td>19806</td>\n",
       "      <td>115</td>\n",
       "    </tr>\n",
       "  </tbody>\n",
       "</table>\n",
       "</div>"
      ],
      "text/plain": [
       "          id  user_id  joke_id\n",
       "0    6194_11     6194       11\n",
       "1    19356_3    19356        3\n",
       "2   23426_79    23426       79\n",
       "3    40030_3    40030        3\n",
       "4  19806_115    19806      115"
      ]
     },
     "execution_count": 13,
     "metadata": {},
     "output_type": "execute_result"
    }
   ],
   "source": [
    "test_df = pd.read_csv(\"test.csv\")\n",
    "test_df.head(5)"
   ]
  },
  {
   "cell_type": "code",
   "execution_count": 14,
   "metadata": {
    "collapsed": true
   },
   "outputs": [],
   "source": [
    "def label_rating(row):\n",
    "    return predict(int(row['user_id']),int(row['joke_id']))\n",
    "    "
   ]
  },
  {
   "cell_type": "code",
   "execution_count": null,
   "metadata": {},
   "outputs": [
    {
     "name": "stdout",
     "output_type": "stream",
     "text": [
      "0000000000000000000000000000000000000000000000000000000000000000000000000000000000000000000000000000000000000000000000000000000000000000000000000000000000000000000"
     ]
    }
   ],
   "source": [
    "test_df['Rating'] = test_df.apply (lambda row: label_rating (row),axis=1)"
   ]
  },
  {
   "cell_type": "code",
   "execution_count": null,
   "metadata": {
    "collapsed": true
   },
   "outputs": [],
   "source": [
    "test_df.head(5)"
   ]
  },
  {
   "cell_type": "code",
   "execution_count": null,
   "metadata": {
    "collapsed": true
   },
   "outputs": [],
   "source": []
  }
 ],
 "metadata": {
  "kernelspec": {
   "display_name": "Python 3",
   "language": "python",
   "name": "python3"
  },
  "language_info": {
   "codemirror_mode": {
    "name": "ipython",
    "version": 3
   },
   "file_extension": ".py",
   "mimetype": "text/x-python",
   "name": "python",
   "nbconvert_exporter": "python",
   "pygments_lexer": "ipython3",
   "version": "3.6.1"
  }
 },
 "nbformat": 4,
 "nbformat_minor": 2
}
