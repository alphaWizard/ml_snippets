{
 "cells": [
  {
   "cell_type": "code",
   "execution_count": 1,
   "metadata": {
    "collapsed": true
   },
   "outputs": [],
   "source": [
    "from nltk.tokenize.punkt import PunktSentenceTokenizer\n",
    "document = \"\"\"To Sherlock Holmes she is always the woman. I have\n",
    "seldom heard him mention her under any other name. In his eyes she\n",
    "eclipses and predominates the whole of her sex. It was not that he\n",
    "felt any emotion akin to love for Irene Adler. All emotions, and that\n",
    "one particularly, were abhorrent to his cold, precise but admirably\n",
    "balanced mind. He was, I take it, the most perfect reasoning and\n",
    "observing machine that the world has seen, but as a lover he would\n",
    "have placed himself in a false position. He never spoke of the softer\n",
    "passions, save with a gibe and a sneer. They were admirable things for\n",
    "the observer-excellent for drawing the veil from men’s motives and\n",
    "actions. But for the trained reasoner to admit such intrusions into\n",
    "his own delicate and finely adjusted temperament was to introduce a\n",
    "distracting factor which might throw a doubt upon all his mental\n",
    "results. Grit in a sensitive instrument, or a crack in one of his own\n",
    "high-power lenses, would not be more disturbing than a strong emotion\n",
    "in a nature such as his. And yet there was but one woman to him, and\n",
    "that woman was the late Irene Adler, of dubious and questionable\n",
    "memory.\n",
    "\"\"\""
   ]
  },
  {
   "cell_type": "code",
   "execution_count": 5,
   "metadata": {},
   "outputs": [
    {
     "data": {
      "text/plain": [
       "['To Sherlock Holmes she is always the woman.',\n",
       " 'I have seldom heard him mention her under any other name.',\n",
       " 'In his eyes she eclipses and predominates the whole of her sex.',\n",
       " 'It was not that he felt any emotion akin to love for Irene Adler.',\n",
       " 'All emotions, and that one particularly, were abhorrent to his cold, precise but admirably balanced mind.',\n",
       " 'He was, I take it, the most perfect reasoning and observing machine that the world has seen, but as a lover he would have placed himself in a false position.',\n",
       " 'He never spoke of the softer passions, save with a gibe and a sneer.',\n",
       " 'They were admirable things for the observer-excellent for drawing the veil from men’s motives and actions.',\n",
       " 'But for the trained reasoner to admit such intrusions into his own delicate and finely adjusted temperament was to introduce a distracting factor which might throw a doubt upon all his mental results.',\n",
       " 'Grit in a sensitive instrument, or a crack in one of his own high-power lenses, would not be more disturbing than a strong emotion in a nature such as his.',\n",
       " 'And yet there was but one woman to him, and that woman was the late Irene Adler, of dubious and questionable memory.']"
      ]
     },
     "execution_count": 5,
     "metadata": {},
     "output_type": "execute_result"
    }
   ],
   "source": [
    "document = ' '.join(document.strip().split('\\n'))\n",
    " \n",
    "sentence_tokenizer = PunktSentenceTokenizer()\n",
    "sentences = sentence_tokenizer.tokenize(document)\n",
    "sentences"
   ]
  },
  {
   "cell_type": "code",
   "execution_count": 6,
   "metadata": {},
   "outputs": [
    {
     "data": {
      "text/plain": [
       "array([[1, 1, 1, 1, 1, 1, 1, 1]], dtype=int64)"
      ]
     },
     "execution_count": 6,
     "metadata": {},
     "output_type": "execute_result"
    }
   ],
   "source": [
    "from sklearn.feature_extraction.text import CountVectorizer\n",
    "c = CountVectorizer()\n",
    "bow_array = c.fit_transform([sentences[0]])\n",
    "bow_array.toarray()"
   ]
  },
  {
   "cell_type": "code",
   "execution_count": 7,
   "metadata": {},
   "outputs": [
    {
     "data": {
      "text/plain": [
       "<11x127 sparse matrix of type '<class 'numpy.int64'>'\n",
       "\twith 183 stored elements in Compressed Sparse Row format>"
      ]
     },
     "execution_count": 7,
     "metadata": {},
     "output_type": "execute_result"
    }
   ],
   "source": [
    "c = CountVectorizer() # on all sentences\n",
    "bow_matrix = c.fit_transform(sentences)\n",
    "bow_matrix"
   ]
  },
  {
   "cell_type": "code",
   "execution_count": 11,
   "metadata": {},
   "outputs": [
    {
     "data": {
      "text/plain": [
       "<11x127 sparse matrix of type '<class 'numpy.float64'>'\n",
       "\twith 183 stored elements in Compressed Sparse Row format>"
      ]
     },
     "execution_count": 11,
     "metadata": {},
     "output_type": "execute_result"
    }
   ],
   "source": [
    "# Now we have a matrix where the rows are sentences and the columns are words.\n",
    "#We need to transform this into a graph relating the sentences to each other. \n",
    "#To do this, we'll first normalize our matrix using Scikit-learn's TfidfTransformer. \n",
    "from sklearn.feature_extraction.text import TfidfTransformer\n",
    "normalized_matrix = TfidfTransformer().fit_transform(bow_matrix)\n",
    "normalized_matrix"
   ]
  },
  {
   "cell_type": "code",
   "execution_count": 13,
   "metadata": {},
   "outputs": [
    {
     "data": {
      "text/plain": [
       "array([[ 1.        ,  0.        ,  0.13737879,  0.04767903,  0.04305016,\n",
       "         0.04345599,  0.03330044,  0.05261648,  0.07798958,  0.        ,\n",
       "         0.20047419],\n",
       "       [ 0.        ,  1.        ,  0.0842143 ,  0.07819597,  0.        ,\n",
       "         0.05171612,  0.        ,  0.        ,  0.        ,  0.        ,\n",
       "         0.05807146],\n",
       "       [ 0.13737879,  0.0842143 ,  1.        ,  0.        ,  0.07004069,\n",
       "         0.09648614,  0.1069042 ,  0.06701793,  0.09437203,  0.20474295,\n",
       "         0.1197599 ],\n",
       "       [ 0.04767903,  0.07819597,  0.        ,  1.        ,  0.07558987,\n",
       "         0.18678911,  0.05853972,  0.09249592,  0.10892262,  0.09110741,\n",
       "         0.24159019],\n",
       "       [ 0.04305016,  0.        ,  0.07004069,  0.07558987,  1.        ,\n",
       "         0.07055583,  0.02370685,  0.07272032,  0.17253418,  0.08262451,\n",
       "         0.17789849],\n",
       "       [ 0.04345599,  0.05171612,  0.09648614,  0.18678911,  0.07055583,\n",
       "         1.        ,  0.12952649,  0.06859301,  0.06837492,  0.13015945,\n",
       "         0.15423071],\n",
       "       [ 0.03330044,  0.        ,  0.1069042 ,  0.05853972,  0.02370685,\n",
       "         0.12952649,  1.        ,  0.06307559,  0.03194234,  0.02852116,\n",
       "         0.11271501],\n",
       "       [ 0.05261648,  0.        ,  0.06701793,  0.09249592,  0.07272032,\n",
       "         0.06859301,  0.06307559,  1.        ,  0.09411725,  0.        ,\n",
       "         0.07702234],\n",
       "       [ 0.07798958,  0.        ,  0.09437203,  0.10892262,  0.17253418,\n",
       "         0.06837492,  0.03194234,  0.09411725,  1.        ,  0.12388421,\n",
       "         0.14327969],\n",
       "       [ 0.        ,  0.        ,  0.20474295,  0.09110741,  0.08262451,\n",
       "         0.13015945,  0.02852116,  0.        ,  0.12388421,  1.        ,\n",
       "         0.04706138],\n",
       "       [ 0.20047419,  0.05807146,  0.1197599 ,  0.24159019,  0.17789849,\n",
       "         0.15423071,  0.11271501,  0.07702234,  0.14327969,  0.04706138,\n",
       "         1.        ]])"
      ]
     },
     "execution_count": 13,
     "metadata": {},
     "output_type": "execute_result"
    }
   ],
   "source": [
    "similarity_graph = normalized_matrix * normalized_matrix.T  #sentence to sentence relation--dot product of each other\n",
    "similarity_graph.toarray()  #11X11 similarity measure matrix"
   ]
  },
  {
   "cell_type": "code",
   "execution_count": 14,
   "metadata": {},
   "outputs": [
    {
     "data": {
      "text/plain": [
       "{0: 0.083850085970473526,\n",
       " 1: 0.075281441703240984,\n",
       " 2: 0.098385602908782135,\n",
       " 3: 0.097442706690059666,\n",
       " 4: 0.089265664661431293,\n",
       " 5: 0.098256154950726426,\n",
       " 6: 0.082611226442511093,\n",
       " 7: 0.082718453245989129,\n",
       " 8: 0.094336171635092891,\n",
       " 9: 0.086368227893767843,\n",
       " 10: 0.11148426389792518}"
      ]
     },
     "execution_count": 14,
     "metadata": {},
     "output_type": "execute_result"
    }
   ],
   "source": [
    "#With a graph of sentences, we can use pagerank to score them.\n",
    "#To do this, we'll use the pagerank function from NetworkX.\n",
    "import networkx as nx\n",
    "nx_graph = nx.from_scipy_sparse_matrix(similarity_graph)\n",
    "scores = nx.pagerank(nx_graph)\n",
    "scores\n"
   ]
  },
  {
   "cell_type": "code",
   "execution_count": 15,
   "metadata": {},
   "outputs": [
    {
     "data": {
      "text/plain": [
       "'And yet there was but one woman to him, and that woman was the late Irene Adler, of dubious and questionable memory.'"
      ]
     },
     "execution_count": 15,
     "metadata": {},
     "output_type": "execute_result"
    }
   ],
   "source": [
    "ranked = sorted(((scores[i],s) for i,s in enumerate(sentences)),\n",
    "                reverse=True)\n",
    "ranked[0][1]"
   ]
  },
  {
   "cell_type": "code",
   "execution_count": 16,
   "metadata": {},
   "outputs": [
    {
     "data": {
      "text/plain": [
       "[(0.11148426389792518,\n",
       "  'And yet there was but one woman to him, and that woman was the late Irene Adler, of dubious and questionable memory.'),\n",
       " (0.098385602908782135,\n",
       "  'In his eyes she eclipses and predominates the whole of her sex.'),\n",
       " (0.098256154950726426,\n",
       "  'He was, I take it, the most perfect reasoning and observing machine that the world has seen, but as a lover he would have placed himself in a false position.'),\n",
       " (0.097442706690059666,\n",
       "  'It was not that he felt any emotion akin to love for Irene Adler.'),\n",
       " (0.094336171635092891,\n",
       "  'But for the trained reasoner to admit such intrusions into his own delicate and finely adjusted temperament was to introduce a distracting factor which might throw a doubt upon all his mental results.')]"
      ]
     },
     "execution_count": 16,
     "metadata": {},
     "output_type": "execute_result"
    }
   ],
   "source": [
    "ranked[:5]"
   ]
  },
  {
   "cell_type": "code",
   "execution_count": null,
   "metadata": {
    "collapsed": true
   },
   "outputs": [],
   "source": []
  }
 ],
 "metadata": {
  "kernelspec": {
   "display_name": "Python 3",
   "language": "python",
   "name": "python3"
  },
  "language_info": {
   "codemirror_mode": {
    "name": "ipython",
    "version": 3
   },
   "file_extension": ".py",
   "mimetype": "text/x-python",
   "name": "python",
   "nbconvert_exporter": "python",
   "pygments_lexer": "ipython3",
   "version": "3.6.1"
  }
 },
 "nbformat": 4,
 "nbformat_minor": 2
}
